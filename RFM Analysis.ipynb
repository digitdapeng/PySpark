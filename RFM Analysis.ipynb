{
 "cells": [
  {
   "cell_type": "markdown",
   "metadata": {},
   "source": [
    "## Recency, Frequency, Monetary Value\n",
    "Build the RFM features matrix for each customer\n",
    "\n",
    "Determine cutting points for each feature\n",
    "\n",
    "Determine the RFM scores and summarize the corresponding business value"
   ]
  },
  {
   "cell_type": "code",
   "execution_count": 1,
   "metadata": {},
   "outputs": [],
   "source": [
    "from pyspark.sql import SparkSession\n",
    "\n",
    "spark = SparkSession \\\n",
    "    .builder \\\n",
    "    .appName(\"Python Spark RFM example\") \\\n",
    "    .config(\"spark.some.config.option\", \"some-value\") \\\n",
    "    .getOrCreate()"
   ]
  },
  {
   "cell_type": "code",
   "execution_count": 2,
   "metadata": {},
   "outputs": [
    {
     "name": "stdout",
     "output_type": "stream",
     "text": [
      "+---------+---------+--------------------+--------+--------------+---------+----------+--------------+\n",
      "|InvoiceNo|StockCode|         Description|Quantity|   InvoiceDate|UnitPrice|CustomerID|       Country|\n",
      "+---------+---------+--------------------+--------+--------------+---------+----------+--------------+\n",
      "|   536365|   85123A|WHITE HANGING HEA...|       6|12/1/2010 8:26|     2.55|     17850|United Kingdom|\n",
      "|   536365|    71053| WHITE METAL LANTERN|       6|12/1/2010 8:26|     3.39|     17850|United Kingdom|\n",
      "|   536365|   84406B|CREAM CUPID HEART...|       8|12/1/2010 8:26|     2.75|     17850|United Kingdom|\n",
      "|   536365|   84029G|KNITTED UNION FLA...|       6|12/1/2010 8:26|     3.39|     17850|United Kingdom|\n",
      "|   536365|   84029E|RED WOOLLY HOTTIE...|       6|12/1/2010 8:26|     3.39|     17850|United Kingdom|\n",
      "+---------+---------+--------------------+--------+--------------+---------+----------+--------------+\n",
      "only showing top 5 rows\n",
      "\n",
      "root\n",
      " |-- InvoiceNo: string (nullable = true)\n",
      " |-- StockCode: string (nullable = true)\n",
      " |-- Description: string (nullable = true)\n",
      " |-- Quantity: integer (nullable = true)\n",
      " |-- InvoiceDate: string (nullable = true)\n",
      " |-- UnitPrice: double (nullable = true)\n",
      " |-- CustomerID: integer (nullable = true)\n",
      " |-- Country: string (nullable = true)\n",
      "\n"
     ]
    }
   ],
   "source": [
    "df_raw = spark.read.format('com.databricks.spark.csv').\\\n",
    "                       options(header='true', \\\n",
    "                       inferschema='true').\\\n",
    "            load(\"OnlineRetail.csv\",header=True)\n",
    "df_raw.show(5)\n",
    "df_raw.printSchema()"
   ]
  },
  {
   "cell_type": "markdown",
   "metadata": {},
   "source": [
    "### Preprocess"
   ]
  },
  {
   "cell_type": "code",
   "execution_count": 3,
   "metadata": {},
   "outputs": [
    {
     "name": "stdout",
     "output_type": "stream",
     "text": [
      "+---------+---------+-----------+--------+-----------+---------+----------+-------+\n",
      "|InvoiceNo|StockCode|Description|Quantity|InvoiceDate|UnitPrice|CustomerID|Country|\n",
      "+---------+---------+-----------+--------+-----------+---------+----------+-------+\n",
      "|   541909|   541909|     540455|  541909|     541909|   541909|    406829| 541909|\n",
      "+---------+---------+-----------+--------+-----------+---------+----------+-------+\n",
      "\n"
     ]
    }
   ],
   "source": [
    "#remove null\n",
    "from pyspark.sql.functions import count\n",
    "\n",
    "def my_count(df_in):\n",
    "    df_in.agg( *[ count(c).alias(c) for c in df_in.columns ] ).show()\n",
    "\n",
    "my_count(df_raw)"
   ]
  },
  {
   "cell_type": "code",
   "execution_count": 4,
   "metadata": {},
   "outputs": [
    {
     "name": "stdout",
     "output_type": "stream",
     "text": [
      "+---------+---------+-----------+--------+-----------+---------+----------+-------+\n",
      "|InvoiceNo|StockCode|Description|Quantity|InvoiceDate|UnitPrice|CustomerID|Country|\n",
      "+---------+---------+-----------+--------+-----------+---------+----------+-------+\n",
      "|   406829|   406829|     406829|  406829|     406829|   406829|    406829| 406829|\n",
      "+---------+---------+-----------+--------+-----------+---------+----------+-------+\n",
      "\n"
     ]
    }
   ],
   "source": [
    "# drop records with null\n",
    "df = df_raw.dropna(how='any')\n",
    "my_count(df)"
   ]
  },
  {
   "cell_type": "code",
   "execution_count": 5,
   "metadata": {},
   "outputs": [
    {
     "name": "stdout",
     "output_type": "stream",
     "text": [
      "+---------+---------+--------------------+--------+--------------+---------+----------+--------------+-------------------+\n",
      "|InvoiceNo|StockCode|         Description|Quantity|   InvoiceDate|UnitPrice|CustomerID|       Country|     NewInvoiceDate|\n",
      "+---------+---------+--------------------+--------+--------------+---------+----------+--------------+-------------------+\n",
      "|   536365|   85123A|WHITE HANGING HEA...|       6|12/1/2010 8:26|     2.55|     17850|United Kingdom|2010-12-01 08:26:00|\n",
      "|   536365|    71053| WHITE METAL LANTERN|       6|12/1/2010 8:26|     3.39|     17850|United Kingdom|2010-12-01 08:26:00|\n",
      "|   536365|   84406B|CREAM CUPID HEART...|       8|12/1/2010 8:26|     2.75|     17850|United Kingdom|2010-12-01 08:26:00|\n",
      "|   536365|   84029G|KNITTED UNION FLA...|       6|12/1/2010 8:26|     3.39|     17850|United Kingdom|2010-12-01 08:26:00|\n",
      "|   536365|   84029E|RED WOOLLY HOTTIE...|       6|12/1/2010 8:26|     3.39|     17850|United Kingdom|2010-12-01 08:26:00|\n",
      "+---------+---------+--------------------+--------+--------------+---------+----------+--------------+-------------------+\n",
      "only showing top 5 rows\n",
      "\n"
     ]
    }
   ],
   "source": [
    "#deal with incoice date\n",
    "from pyspark.sql.functions import to_utc_timestamp, unix_timestamp, lit, datediff, col\n",
    "timeFmt = \"MM/dd/yy HH:mm\"\n",
    "df = df.withColumn('NewInvoiceDate', to_utc_timestamp(unix_timestamp(col('InvoiceDate'),timeFmt).cast('timestamp'),'UTC'))\n",
    "df.show(5)"
   ]
  },
  {
   "cell_type": "code",
   "execution_count": 6,
   "metadata": {},
   "outputs": [
    {
     "name": "stdout",
     "output_type": "stream",
     "text": [
      "+---------+---------+--------------------+--------+--------------+---------+----------+--------------+-------------------+----------+\n",
      "|InvoiceNo|StockCode|         Description|Quantity|   InvoiceDate|UnitPrice|CustomerID|       Country|     NewInvoiceDate|TotalPrice|\n",
      "+---------+---------+--------------------+--------+--------------+---------+----------+--------------+-------------------+----------+\n",
      "|   536365|   85123A|WHITE HANGING HEA...|       6|12/1/2010 8:26|     2.55|     17850|United Kingdom|2010-12-01 08:26:00|      15.3|\n",
      "|   536365|    71053| WHITE METAL LANTERN|       6|12/1/2010 8:26|     3.39|     17850|United Kingdom|2010-12-01 08:26:00|     20.34|\n",
      "|   536365|   84406B|CREAM CUPID HEART...|       8|12/1/2010 8:26|     2.75|     17850|United Kingdom|2010-12-01 08:26:00|      22.0|\n",
      "|   536365|   84029G|KNITTED UNION FLA...|       6|12/1/2010 8:26|     3.39|     17850|United Kingdom|2010-12-01 08:26:00|     20.34|\n",
      "|   536365|   84029E|RED WOOLLY HOTTIE...|       6|12/1/2010 8:26|     3.39|     17850|United Kingdom|2010-12-01 08:26:00|     20.34|\n",
      "+---------+---------+--------------------+--------+--------------+---------+----------+--------------+-------------------+----------+\n",
      "only showing top 5 rows\n",
      "\n"
     ]
    }
   ],
   "source": [
    "# calculate TotalPrice\n",
    "from pyspark.sql.functions import round\n",
    "df = df.withColumn('TotalPrice', round( df.Quantity * df.UnitPrice, 2))\n",
    "df.show(5)"
   ]
  },
  {
   "cell_type": "code",
   "execution_count": 7,
   "metadata": {},
   "outputs": [
    {
     "name": "stdout",
     "output_type": "stream",
     "text": [
      "+---------+---------+--------------------+--------+--------------+---------+----------+--------------+-------------------+----------+--------+\n",
      "|InvoiceNo|StockCode|         Description|Quantity|   InvoiceDate|UnitPrice|CustomerID|       Country|     NewInvoiceDate|TotalPrice|Duration|\n",
      "+---------+---------+--------------------+--------+--------------+---------+----------+--------------+-------------------+----------+--------+\n",
      "|   536365|   85123A|WHITE HANGING HEA...|       6|12/1/2010 8:26|     2.55|     17850|United Kingdom|2010-12-01 08:26:00|      15.3|     373|\n",
      "|   536365|    71053| WHITE METAL LANTERN|       6|12/1/2010 8:26|     3.39|     17850|United Kingdom|2010-12-01 08:26:00|     20.34|     373|\n",
      "|   536365|   84406B|CREAM CUPID HEART...|       8|12/1/2010 8:26|     2.75|     17850|United Kingdom|2010-12-01 08:26:00|      22.0|     373|\n",
      "|   536365|   84029G|KNITTED UNION FLA...|       6|12/1/2010 8:26|     3.39|     17850|United Kingdom|2010-12-01 08:26:00|     20.34|     373|\n",
      "|   536365|   84029E|RED WOOLLY HOTTIE...|       6|12/1/2010 8:26|     3.39|     17850|United Kingdom|2010-12-01 08:26:00|     20.34|     373|\n",
      "+---------+---------+--------------------+--------+--------------+---------+----------+--------------+-------------------+----------+--------+\n",
      "only showing top 5 rows\n",
      "\n"
     ]
    }
   ],
   "source": [
    "# calculate time difference\n",
    "from pyspark.sql.functions import mean, min, max, sum, datediff, to_date\n",
    "\n",
    "date_max = df.select(max('NewInvoiceDate')).toPandas()\n",
    "current = to_utc_timestamp( unix_timestamp(lit(str(date_max.iloc[0][0])), \\\n",
    "                              'yy-MM-dd HH:mm').cast('timestamp'), 'UTC' )\n",
    "# Calculatre Duration\n",
    "df = df.withColumn('Duration', datediff(lit(current), 'NewInvoiceDate'))\n",
    "df.show(5)"
   ]
  },
  {
   "cell_type": "code",
   "execution_count": 8,
   "metadata": {
    "scrolled": true
   },
   "outputs": [
    {
     "name": "stdout",
     "output_type": "stream",
     "text": [
      "+----------+-------+---------+--------+\n",
      "|CustomerID|Recency|Frequency|Monetary|\n",
      "+----------+-------+---------+--------+\n",
      "|     15619|     10|        1|   336.4|\n",
      "|     17389|      0|       43|31300.08|\n",
      "|     12940|     46|        4|  876.29|\n",
      "|     13623|     30|        7|  672.44|\n",
      "|     14450|    180|        3|  483.25|\n",
      "+----------+-------+---------+--------+\n",
      "only showing top 5 rows\n",
      "\n"
     ]
    }
   ],
   "source": [
    "# build the RFM\n",
    "recency = df.groupBy('CustomerID').agg(min('Duration').alias('Recency'))\n",
    "frequency = df.groupBy('CustomerID', 'InvoiceNo').count()\\\n",
    "                        .groupBy('CustomerID')\\\n",
    "                        .agg(count(\"*\").alias(\"Frequency\"))\n",
    "monetary = df.groupBy('CustomerID').agg(round(sum('TotalPrice'), 2).alias('Monetary'))\n",
    "rfm = recency.join(frequency,'CustomerID', how = 'inner')\\\n",
    "             .join(monetary,'CustomerID', how = 'inner')\n",
    "rfm.show(5)"
   ]
  },
  {
   "cell_type": "code",
   "execution_count": 9,
   "metadata": {},
   "outputs": [],
   "source": [
    "def describe_pd(df_in, columns, deciles=False):\n",
    "    import numpy as np\n",
    "    import pandas as pd\n",
    "    '''\n",
    "    Function to union the basic stats results and deciles\n",
    "    :param df_in: the input dataframe\n",
    "    :param columns: the cloumn name list of the numerical variable\n",
    "    :param deciles: the deciles output\n",
    "\n",
    "    :return : the numerical describe info. of the input dataframe\n",
    "\n",
    "    :author: Ming Chen and Wenqiang Feng\n",
    "    :email:  von198@gmail.com\n",
    "    '''\n",
    "\n",
    "    if deciles:\n",
    "        percentiles = np.array(range(0, 110, 10))\n",
    "    else:\n",
    "        percentiles = [25, 50, 75]\n",
    "\n",
    "    percs = np.transpose([np.percentile(df_in.select(x).collect(), percentiles) for x in columns])\n",
    "    percs = pd.DataFrame(percs, columns=columns)\n",
    "    percs['summary'] = [str(p) + '%' for p in percentiles]\n",
    "\n",
    "    spark_describe = df_in.describe().toPandas()\n",
    "    new_df = pd.concat([spark_describe, percs],ignore_index=True, sort=True)\n",
    "    new_df = new_df.round(2)\n",
    "    return new_df[['summary'] + columns]"
   ]
  },
  {
   "cell_type": "code",
   "execution_count": 10,
   "metadata": {},
   "outputs": [
    {
     "data": {
      "text/html": [
       "<div>\n",
       "<style scoped>\n",
       "    .dataframe tbody tr th:only-of-type {\n",
       "        vertical-align: middle;\n",
       "    }\n",
       "\n",
       "    .dataframe tbody tr th {\n",
       "        vertical-align: top;\n",
       "    }\n",
       "\n",
       "    .dataframe thead th {\n",
       "        text-align: right;\n",
       "    }\n",
       "</style>\n",
       "<table border=\"1\" class=\"dataframe\">\n",
       "  <thead>\n",
       "    <tr style=\"text-align: right;\">\n",
       "      <th></th>\n",
       "      <th>summary</th>\n",
       "      <th>Recency</th>\n",
       "      <th>Frequency</th>\n",
       "      <th>Monetary</th>\n",
       "    </tr>\n",
       "  </thead>\n",
       "  <tbody>\n",
       "    <tr>\n",
       "      <th>0</th>\n",
       "      <td>count</td>\n",
       "      <td>4372</td>\n",
       "      <td>4372</td>\n",
       "      <td>4372</td>\n",
       "    </tr>\n",
       "    <tr>\n",
       "      <th>1</th>\n",
       "      <td>mean</td>\n",
       "      <td>91.58119853613907</td>\n",
       "      <td>5.07548032936871</td>\n",
       "      <td>1898.4597003659658</td>\n",
       "    </tr>\n",
       "    <tr>\n",
       "      <th>2</th>\n",
       "      <td>stddev</td>\n",
       "      <td>100.77213931384833</td>\n",
       "      <td>9.338754163574729</td>\n",
       "      <td>8219.345141139722</td>\n",
       "    </tr>\n",
       "    <tr>\n",
       "      <th>3</th>\n",
       "      <td>min</td>\n",
       "      <td>0</td>\n",
       "      <td>1</td>\n",
       "      <td>-4287.63</td>\n",
       "    </tr>\n",
       "    <tr>\n",
       "      <th>4</th>\n",
       "      <td>max</td>\n",
       "      <td>373</td>\n",
       "      <td>248</td>\n",
       "      <td>279489.02</td>\n",
       "    </tr>\n",
       "    <tr>\n",
       "      <th>5</th>\n",
       "      <td>25%</td>\n",
       "      <td>16</td>\n",
       "      <td>1</td>\n",
       "      <td>293.362</td>\n",
       "    </tr>\n",
       "    <tr>\n",
       "      <th>6</th>\n",
       "      <td>50%</td>\n",
       "      <td>50</td>\n",
       "      <td>3</td>\n",
       "      <td>648.075</td>\n",
       "    </tr>\n",
       "    <tr>\n",
       "      <th>7</th>\n",
       "      <td>75%</td>\n",
       "      <td>143</td>\n",
       "      <td>5</td>\n",
       "      <td>1611.72</td>\n",
       "    </tr>\n",
       "  </tbody>\n",
       "</table>\n",
       "</div>"
      ],
      "text/plain": [
       "  summary             Recency          Frequency            Monetary\n",
       "0   count                4372               4372                4372\n",
       "1    mean   91.58119853613907   5.07548032936871  1898.4597003659658\n",
       "2  stddev  100.77213931384833  9.338754163574729   8219.345141139722\n",
       "3     min                   0                  1            -4287.63\n",
       "4     max                 373                248           279489.02\n",
       "5     25%                  16                  1             293.362\n",
       "6     50%                  50                  3             648.075\n",
       "7     75%                 143                  5             1611.72"
      ]
     },
     "execution_count": 10,
     "metadata": {},
     "output_type": "execute_result"
    }
   ],
   "source": [
    "#RFM Segmentation, use quantile\n",
    "cols = ['Recency','Frequency','Monetary']\n",
    "describe_pd(rfm,cols,False)"
   ]
  },
  {
   "cell_type": "code",
   "execution_count": 11,
   "metadata": {},
   "outputs": [
    {
     "name": "stdout",
     "output_type": "stream",
     "text": [
      "+----------+-------+---------+--------+-----+-----+-----+\n",
      "|CustomerID|Recency|Frequency|Monetary|r_seg|f_seg|m_seg|\n",
      "+----------+-------+---------+--------+-----+-----+-----+\n",
      "|     15619|     10|        1|   336.4|    1|    4|    3|\n",
      "|     17389|      0|       43|31300.08|    1|    1|    1|\n",
      "|     12940|     46|        4|  876.29|    2|    2|    2|\n",
      "|     13623|     30|        7|  672.44|    2|    1|    2|\n",
      "|     14450|    180|        3|  483.25|    4|    3|    3|\n",
      "+----------+-------+---------+--------+-----+-----+-----+\n",
      "only showing top 5 rows\n",
      "\n",
      "+----------+-------+---------+--------+-----+-----+-----+--------+\n",
      "|CustomerID|Recency|Frequency|Monetary|r_seg|f_seg|m_seg|RFMScore|\n",
      "+----------+-------+---------+--------+-----+-----+-----+--------+\n",
      "|     15619|     10|        1|   336.4|    1|    4|    3|     143|\n",
      "|     17389|      0|       43|31300.08|    1|    1|    1|     111|\n",
      "|     12940|     46|        4|  876.29|    2|    2|    2|     222|\n",
      "|     13623|     30|        7|  672.44|    2|    1|    2|     212|\n",
      "|     14450|    180|        3|  483.25|    4|    3|    3|     433|\n",
      "+----------+-------+---------+--------+-----+-----+-----+--------+\n",
      "only showing top 5 rows\n",
      "\n"
     ]
    }
   ],
   "source": [
    "# define the cutting point\n",
    "from pyspark.sql.functions import col, concat\n",
    "\n",
    "def RScore(x):\n",
    "    if  x <= 16:\n",
    "        return 1\n",
    "    elif x<= 50:\n",
    "        return 2\n",
    "    elif x<= 143:\n",
    "        return 3\n",
    "    else:\n",
    "        return 4\n",
    "\n",
    "def FScore(x):\n",
    "    if  x <= 1:\n",
    "        return 4\n",
    "    elif x <= 3:\n",
    "        return 3\n",
    "    elif x <= 5:\n",
    "        return 2\n",
    "    else:\n",
    "        return 1\n",
    "\n",
    "def MScore(x):\n",
    "    if  x <= 293:\n",
    "        return 4\n",
    "    elif x <= 648:\n",
    "        return 3\n",
    "    elif x <= 1611:\n",
    "        return 2\n",
    "    else:\n",
    "        return 1\n",
    "\n",
    "from pyspark.sql.functions import udf\n",
    "from pyspark.sql.types import StringType, DoubleType\n",
    "\n",
    "R_udf = udf(lambda x: RScore(x), StringType())\n",
    "F_udf = udf(lambda x: FScore(x), StringType())\n",
    "M_udf = udf(lambda x: MScore(x), StringType())\n",
    "\n",
    "#create segment\n",
    "rfm_seg = rfm.withColumn(\"r_seg\", R_udf(\"Recency\"))\n",
    "rfm_seg = rfm_seg.withColumn(\"f_seg\", F_udf(\"Frequency\"))\n",
    "rfm_seg = rfm_seg.withColumn(\"m_seg\", M_udf(\"Monetary\"))\n",
    "rfm_seg.show(5)\n",
    "\n",
    "rfm_seg = rfm_seg.withColumn('RFMScore',concat(col('r_seg'), col('f_seg'), col('m_seg')))\n",
    "#rfm_seg.sort(col('RFMScore')).show(5)\n",
    "rfm_seg.show(5)"
   ]
  },
  {
   "cell_type": "code",
   "execution_count": 12,
   "metadata": {},
   "outputs": [
    {
     "name": "stdout",
     "output_type": "stream",
     "text": [
      "+--------+-----------------+------------------+------------------+\n",
      "|RFMScore|     avg(Recency)|     avg(Monetary)|    avg(Frequency)|\n",
      "+--------+-----------------+------------------+------------------+\n",
      "|     111|6.035123966942149| 8828.888595041324|18.882231404958677|\n",
      "|     112|7.237113402061856|1223.3604123711339| 7.752577319587629|\n",
      "|     113|              8.0|          505.9775|               7.5|\n",
      "|     114|             11.0|            191.17|               8.0|\n",
      "|     121|6.472727272727273|2569.0619999999994| 4.636363636363637|\n",
      "+--------+-----------------+------------------+------------------+\n",
      "only showing top 5 rows\n",
      "\n"
     ]
    }
   ],
   "source": [
    "#Statistical summary\n",
    "rfm_seg.groupBy('RFMScore')\\\n",
    "       .agg({'Recency':'mean',\n",
    "             'Frequency': 'mean',\n",
    "             'Monetary': 'mean'} )\\\n",
    "        .sort(col('RFMScore')).show(5)"
   ]
  },
  {
   "cell_type": "code",
   "execution_count": 13,
   "metadata": {},
   "outputs": [
    {
     "name": "stdout",
     "output_type": "stream",
     "text": [
      "+----------+-------+---------+--------+\n",
      "|CustomerID|Recency|Frequency|Monetary|\n",
      "+----------+-------+---------+--------+\n",
      "|     15619|     10|        1|   336.4|\n",
      "|     17389|      0|       43|31300.08|\n",
      "|     12940|     46|        4|  876.29|\n",
      "|     13623|     30|        7|  672.44|\n",
      "|     14450|    180|        3|  483.25|\n",
      "+----------+-------+---------+--------+\n",
      "only showing top 5 rows\n",
      "\n",
      "+----------+-------------------+\n",
      "|CustomerID|                rfm|\n",
      "+----------+-------------------+\n",
      "|     15619|   [10.0,1.0,336.4]|\n",
      "|     17389|[0.0,43.0,31300.08]|\n",
      "|     12940|  [46.0,4.0,876.29]|\n",
      "|     13623|  [30.0,7.0,672.44]|\n",
      "|     14450| [180.0,3.0,483.25]|\n",
      "+----------+-------------------+\n",
      "only showing top 5 rows\n",
      "\n"
     ]
    }
   ],
   "source": [
    "# also can use Kmeans for segment\n",
    "from pyspark.sql import Row\n",
    "from pyspark.ml.linalg import Vectors\n",
    "\n",
    "def transData(data):\n",
    "    return data.rdd.map(lambda r: [r[0],Vectors.dense(r[1:])]).toDF(['CustomerID','rfm'])\n",
    "\n",
    "rfm.show(5)\n",
    "transformed= transData(rfm)\n",
    "transformed.show(5)"
   ]
  },
  {
   "cell_type": "code",
   "execution_count": 14,
   "metadata": {},
   "outputs": [
    {
     "name": "stdout",
     "output_type": "stream",
     "text": [
      "+----------+-------------------+---------------------------------------------------------------+\n",
      "|CustomerID|rfm                |features                                                       |\n",
      "+----------+-------------------+---------------------------------------------------------------+\n",
      "|15619     |[10.0,1.0,336.4]   |[0.02680965147453083,0.0,0.016294610567853272]                 |\n",
      "|17389     |[0.0,43.0,31300.08]|[0.0,0.1700404858299595,0.12540746393334334]                   |\n",
      "|12940     |[46.0,4.0,876.29]  |[0.12332439678284182,0.012145748987854251,0.01819712791732512] |\n",
      "|13623     |[30.0,7.0,672.44]  |[0.08042895442359249,0.024291497975708502,0.017478781288030567]|\n",
      "|14450     |[180.0,3.0,483.25] |[0.48257372654155495,0.008097165991902834,0.01681209500499777] |\n",
      "+----------+-------------------+---------------------------------------------------------------+\n",
      "only showing top 5 rows\n",
      "\n"
     ]
    }
   ],
   "source": [
    "# scaling the rfm\n",
    "from pyspark.ml.feature import MinMaxScaler\n",
    "\n",
    "scaler = MinMaxScaler(inputCol=\"rfm\",\\\n",
    "         outputCol=\"features\")\n",
    "scalerModel =  scaler.fit(transformed)\n",
    "scaledData = scalerModel.transform(transformed)\n",
    "scaledData.show(5,False)"
   ]
  },
  {
   "cell_type": "code",
   "execution_count": 15,
   "metadata": {},
   "outputs": [
    {
     "name": "stdout",
     "output_type": "stream",
     "text": [
      "+-------+------------------+\n",
      "|summary|        CustomerID|\n",
      "+-------+------------------+\n",
      "|  count|              4372|\n",
      "|   mean|15299.677721866423|\n",
      "| stddev|1722.3907054276908|\n",
      "|    min|             12346|\n",
      "|    max|             18287|\n",
      "+-------+------------------+\n",
      "\n"
     ]
    }
   ],
   "source": [
    "scaledData.describe().show()"
   ]
  },
  {
   "cell_type": "code",
   "execution_count": 16,
   "metadata": {},
   "outputs": [],
   "source": [
    "#Elbow method to determine the optimal number of clusters for k-means\n",
    "def optimal_k(data,k_min, k_max, featureName=\"indexedFeatures\"):\n",
    "    import numpy as np\n",
    "    from pyspark.ml.clustering import KMeans\n",
    "    from pyspark.ml.evaluation import ClusteringEvaluator\n",
    "    import time\n",
    "\n",
    "    max_cluster=k_max+1\n",
    "    cost = np.zeros(max_cluster)\n",
    "    silh_val=np.zeros(max_cluster)\n",
    "\n",
    "    for k in range(k_min,max_cluster):\n",
    "        t=time.time()\n",
    "        local_time = time.ctime(t)\n",
    "\n",
    "        print(\"k=: \",k, \"time=: \", local_time)\n",
    "        kmeans = KMeans()\\\n",
    "            .setK(k)\\\n",
    "            .setSeed(1) \\\n",
    "            .setFeaturesCol(featureName)\\\n",
    "            .setPredictionCol(\"cluster\")\n",
    "\n",
    "        kmodel = kmeans.fit(data)\n",
    "        cost[k] = kmodel.computeCost(data) # requires Spark 2.0 or later\n",
    "    \n",
    "        # Make predictions\n",
    "        kpredictions = kmodel.transform(data)\n",
    "        # Evaluate clustering by computing Silhouette score\n",
    "        evaluator = ClusteringEvaluator(predictionCol='cluster')\n",
    "        silhouette = evaluator.evaluate(kpredictions)\n",
    "        silh_val[k]=silhouette\n",
    "\n",
    "    import matplotlib.pyplot as plt\n",
    "    %matplotlib inline\n",
    "    from matplotlib.ticker import MaxNLocator\n",
    "\n",
    "    fig, (ax1,ax2) = plt.subplots(1,2, figsize =(14,6))\n",
    "    ax1.plot(range(k_min,max_cluster),cost[k_min:max_cluster])\n",
    "    ax1.set_xlabel('k')\n",
    "    ax1.set_ylabel('cost')\n",
    "    ax1.xaxis.set_major_locator(MaxNLocator(integer=True))\n",
    "\n",
    "    ax2.plot(range(k_min,max_cluster),silh_val[k_min:max_cluster])\n",
    "    ax2.set_xlabel('k')\n",
    "    ax2.set_ylabel('Silhouette Score')\n",
    "    ax2.xaxis.set_major_locator(MaxNLocator(integer=True))\n",
    "\n",
    "    plt.show()"
   ]
  },
  {
   "cell_type": "code",
   "execution_count": 17,
   "metadata": {},
   "outputs": [
    {
     "name": "stdout",
     "output_type": "stream",
     "text": [
      "k=:  2 time=:  Wed Apr 15 17:34:36 2020\n",
      "k=:  3 time=:  Wed Apr 15 17:44:59 2020\n",
      "k=:  4 time=:  Wed Apr 15 17:55:24 2020\n",
      "k=:  5 time=:  Wed Apr 15 18:05:59 2020\n",
      "k=:  6 time=:  Wed Apr 15 18:16:32 2020\n",
      "k=:  7 time=:  Wed Apr 15 18:27:11 2020\n",
      "k=:  8 time=:  Wed Apr 15 18:37:37 2020\n",
      "k=:  9 time=:  Wed Apr 15 18:48:01 2020\n",
      "k=:  10 time=:  Wed Apr 15 18:58:22 2020\n"
     ]
    },
    {
     "data": {
      "image/png": "[encoded data removed]",
      "text/plain": [
       "<Figure size 1008x432 with 2 Axes>"
      ]
     },
     "metadata": {
      "needs_background": "light"
     },
     "output_type": "display_data"
    }
   ],
   "source": [
    "optimal_k(scaledData,k_min=2, k_max=10,featureName=\"features\")"
   ]
  },
  {
   "cell_type": "code",
   "execution_count": 19,
   "metadata": {},
   "outputs": [
    {
     "name": "stdout",
     "output_type": "stream",
     "text": [
      "+----------+-------------------+---------------------------------------------------------------+----------+\n",
      "|CustomerID|rfm                |features                                                       |prediction|\n",
      "+----------+-------------------+---------------------------------------------------------------+----------+\n",
      "|15619     |[10.0,1.0,336.4]   |[0.02680965147453083,0.0,0.016294610567853272]                 |0         |\n",
      "|17389     |[0.0,43.0,31300.08]|[0.0,0.1700404858299595,0.12540746393334334]                   |0         |\n",
      "|12940     |[46.0,4.0,876.29]  |[0.12332439678284182,0.012145748987854251,0.01819712791732512] |0         |\n",
      "|13623     |[30.0,7.0,672.44]  |[0.08042895442359249,0.024291497975708502,0.017478781288030567]|0         |\n",
      "|14450     |[180.0,3.0,483.25] |[0.48257372654155495,0.008097165991902834,0.01681209500499777] |2         |\n",
      "+----------+-------------------+---------------------------------------------------------------+----------+\n",
      "only showing top 5 rows\n",
      "\n"
     ]
    }
   ],
   "source": [
    "#use Kmean, use k=3\n",
    "from pyspark.ml.clustering import KMeans\n",
    "\n",
    "k = 3\n",
    "kmeans = KMeans().setK(k).setSeed(1)\n",
    "kmodel = kmeans.fit(scaledData)\n",
    "# Make predictions\n",
    "kpredictions = kmodel.transform(scaledData)\n",
    "kpredictions.show(5,False)"
   ]
  },
  {
   "cell_type": "code",
   "execution_count": 23,
   "metadata": {},
   "outputs": [
    {
     "name": "stdout",
     "output_type": "stream",
     "text": [
      "+----------+-------+---------+--------+----------+\n",
      "|CustomerID|Recency|Frequency|Monetary|prediction|\n",
      "+----------+-------+---------+--------+----------+\n",
      "|     13098|      1|       41|28658.88|         0|\n",
      "|     13248|    124|        2|  465.68|         2|\n",
      "|     13452|    259|        2|   590.0|         1|\n",
      "|     13460|     29|        2|  183.44|         0|\n",
      "|     13518|     85|        1|  659.44|         0|\n",
      "+----------+-------+---------+--------+----------+\n",
      "only showing top 5 rows\n",
      "\n"
     ]
    }
   ],
   "source": [
    "# Summary\n",
    "results = rfm.join(kpredictions.select('CustomerID','prediction'),'CustomerID',how='left')\n",
    "results.show(5)"
   ]
  },
  {
   "cell_type": "code",
   "execution_count": 27,
   "metadata": {},
   "outputs": [
    {
     "name": "stdout",
     "output_type": "stream",
     "text": [
      "+----------+------------------+------------------+------------------+\n",
      "|prediction|      avg(Recency)|     avg(Monetary)|    avg(Frequency)|\n",
      "+----------+------------------+------------------+------------------+\n",
      "|         0|30.966337980278816|2543.0355321319284| 6.514450867052023|\n",
      "|         1|296.02403846153845|407.16831730769206|1.5592948717948718|\n",
      "|         2|154.40148698884758| 702.5096406443623| 2.550185873605948|\n",
      "+----------+------------------+------------------+------------------+\n",
      "\n"
     ]
    }
   ],
   "source": [
    "#summary on prediction\n",
    "results.groupBy('prediction')\\\n",
    "       .agg({'Recency':'mean',\n",
    "             'Frequency': 'mean',\n",
    "             'Monetary': 'mean'} ).sort(col('prediction')).show(5)"
   ]
  },
  {
   "cell_type": "code",
   "execution_count": null,
   "metadata": {},
   "outputs": [],
   "source": []
  }
 ],
 "metadata": {
  "kernelspec": {
   "display_name": "Python 3",
   "language": "python",
   "name": "python3"
  },
  "language_info": {
   "codemirror_mode": {
    "name": "ipython",
    "version": 3
   },
   "file_extension": ".py",
   "mimetype": "text/x-python",
   "name": "python",
   "nbconvert_exporter": "python",
   "pygments_lexer": "ipython3",
   "version": "3.7.1"
  }
 },
 "nbformat": 4,
 "nbformat_minor": 2
}
