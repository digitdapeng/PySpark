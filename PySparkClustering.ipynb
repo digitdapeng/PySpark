{
 "cells": [
  {
   "cell_type": "code",
   "execution_count": 1,
   "metadata": {},
   "outputs": [],
   "source": [
    "from pyspark.sql import SparkSession\n",
    "\n",
    "spark = SparkSession \\\n",
    "    .builder \\\n",
    "    .appName(\"Python Spark K-means example\") \\\n",
    "    .config(\"spark.some.config.option\", \"some-value\") \\\n",
    "    .getOrCreate()"
   ]
  },
  {
   "cell_type": "code",
   "execution_count": 4,
   "metadata": {},
   "outputs": [
    {
     "name": "stdout",
     "output_type": "stream",
     "text": [
      "+------------+-----------+------------+-----------+-------+\n",
      "|sepal_length|sepal_width|petal_length|petal_width|species|\n",
      "+------------+-----------+------------+-----------+-------+\n",
      "|         5.1|        3.5|         1.4|        0.2| setosa|\n",
      "|         4.9|        3.0|         1.4|        0.2| setosa|\n",
      "|         4.7|        3.2|         1.3|        0.2| setosa|\n",
      "|         4.6|        3.1|         1.5|        0.2| setosa|\n",
      "|         5.0|        3.6|         1.4|        0.2| setosa|\n",
      "+------------+-----------+------------+-----------+-------+\n",
      "only showing top 5 rows\n",
      "\n",
      "root\n",
      " |-- sepal_length: double (nullable = true)\n",
      " |-- sepal_width: double (nullable = true)\n",
      " |-- petal_length: double (nullable = true)\n",
      " |-- petal_width: double (nullable = true)\n",
      " |-- species: string (nullable = true)\n",
      "\n",
      "+-------+------------------+-------------------+------------------+------------------+---------+\n",
      "|summary|      sepal_length|        sepal_width|      petal_length|       petal_width|  species|\n",
      "+-------+------------------+-------------------+------------------+------------------+---------+\n",
      "|  count|               150|                150|               150|               150|      150|\n",
      "|   mean| 5.843333333333335| 3.0540000000000007|3.7586666666666693|1.1986666666666672|     null|\n",
      "| stddev|0.8280661279778637|0.43359431136217375| 1.764420419952262|0.7631607417008414|     null|\n",
      "|    min|               4.3|                2.0|               1.0|               0.1|   setosa|\n",
      "|    max|               7.9|                4.4|               6.9|               2.5|virginica|\n",
      "+-------+------------------+-------------------+------------------+------------------+---------+\n",
      "\n"
     ]
    }
   ],
   "source": [
    "df = spark.read.format('csv').\\\n",
    "                       options(header='true', \\\n",
    "                       inferschema='true').\\\n",
    "            load(\"iris.csv\",header=True)\n",
    "df.show(5)\n",
    "df.printSchema()\n",
    "df.describe().show()"
   ]
  },
  {
   "cell_type": "code",
   "execution_count": 10,
   "metadata": {},
   "outputs": [
    {
     "name": "stdout",
     "output_type": "stream",
     "text": [
      "Assembled columns to vector column 'features'\n",
      "+------------+-----------+------------+-----------+-------+-----------------+\n",
      "|sepal_length|sepal_width|petal_length|petal_width|species|features         |\n",
      "+------------+-----------+------------+-----------+-------+-----------------+\n",
      "|5.1         |3.5        |1.4         |0.2        |setosa |[5.1,3.5,1.4,0.2]|\n",
      "|4.9         |3.0        |1.4         |0.2        |setosa |[4.9,3.0,1.4,0.2]|\n",
      "|4.7         |3.2        |1.3         |0.2        |setosa |[4.7,3.2,1.3,0.2]|\n",
      "|4.6         |3.1        |1.5         |0.2        |setosa |[4.6,3.1,1.5,0.2]|\n",
      "|5.0         |3.6        |1.4         |0.2        |setosa |[5.0,3.6,1.4,0.2]|\n",
      "+------------+-----------+------------+-----------+-------+-----------------+\n",
      "only showing top 5 rows\n",
      "\n"
     ]
    }
   ],
   "source": [
    "# convert the data to dense vector\n",
    "from pyspark.mllib.linalg import Vectors\n",
    "from pyspark.ml.feature import VectorAssembler\n",
    "def transData(data):\n",
    "    #return data.rdd.map(lambda r: [Vectors.dense(r[:-1])]).toDF(['features'])\n",
    "    return data.rdd.map(lambda r: [Vectors.dense(r[:-1]),r[-1]]).toDF(['features','label'])\n",
    "\n",
    "assembler = VectorAssembler(\n",
    "    inputCols=[\"sepal_length\", \"sepal_width\", \"petal_length\", \"petal_width\"],\n",
    "    outputCol=\"features\")\n",
    "\n",
    "transformed = assembler.transform(df)\n",
    "print(\"Assembled columns to vector column 'features'\")\n",
    "transformed.show(5, truncate=False)"
   ]
  },
  {
   "cell_type": "code",
   "execution_count": 12,
   "metadata": {},
   "outputs": [
    {
     "name": "stdout",
     "output_type": "stream",
     "text": [
      "+------------+-----------+------------+-----------+-------+-----------------+-----------------+\n",
      "|sepal_length|sepal_width|petal_length|petal_width|species|         features|  indexedFeatures|\n",
      "+------------+-----------+------------+-----------+-------+-----------------+-----------------+\n",
      "|         5.1|        3.5|         1.4|        0.2| setosa|[5.1,3.5,1.4,0.2]|[5.1,3.5,1.4,0.2]|\n",
      "|         4.9|        3.0|         1.4|        0.2| setosa|[4.9,3.0,1.4,0.2]|[4.9,3.0,1.4,0.2]|\n",
      "|         4.7|        3.2|         1.3|        0.2| setosa|[4.7,3.2,1.3,0.2]|[4.7,3.2,1.3,0.2]|\n",
      "|         4.6|        3.1|         1.5|        0.2| setosa|[4.6,3.1,1.5,0.2]|[4.6,3.1,1.5,0.2]|\n",
      "|         5.0|        3.6|         1.4|        0.2| setosa|[5.0,3.6,1.4,0.2]|[5.0,3.6,1.4,0.2]|\n",
      "+------------+-----------+------------+-----------+-------+-----------------+-----------------+\n",
      "only showing top 5 rows\n",
      "\n"
     ]
    }
   ],
   "source": [
    "#Deal With Categorical Variables\n",
    "from pyspark.ml import Pipeline\n",
    "from pyspark.ml.regression import LinearRegression\n",
    "from pyspark.ml.feature import VectorIndexer\n",
    "from pyspark.ml.evaluation import RegressionEvaluator\n",
    "\n",
    "# Automatically identify categorical features, and index them.\n",
    "# We specify maxCategories so features with > 4 distinct values are treated as continuous.\n",
    "\n",
    "featureIndexer = VectorIndexer(inputCol=\"features\", \\\n",
    "                               outputCol=\"indexedFeatures\",\\\n",
    "                               maxCategories=4).fit(transformed)\n",
    "\n",
    "data = featureIndexer.transform(transformed)\n",
    "data.show(5)"
   ]
  },
  {
   "cell_type": "code",
   "execution_count": 20,
   "metadata": {},
   "outputs": [
    {
     "name": "stdout",
     "output_type": "stream",
     "text": [
      "k=: 2\n",
      "k=: 3\n",
      "k=: 4\n",
      "k=: 5\n",
      "k=: 6\n",
      "k=: 7\n",
      "k=: 8\n",
      "k=: 9\n"
     ]
    },
    {
     "data": {
      "image/png": "[encoded data removed]",
      "text/plain": [
       "<Figure size 1008x432 with 2 Axes>"
      ]
     },
     "metadata": {
      "needs_background": "light"
     },
     "output_type": "display_data"
    }
   ],
   "source": [
    "#Elbow method to determine the optimal number of clusters for k-means\n",
    "import numpy as np\n",
    "from pyspark.ml.clustering import KMeans\n",
    "from pyspark.ml.evaluation import ClusteringEvaluator\n",
    "\n",
    "max_cluster=10\n",
    "cost = np.zeros(max_cluster)\n",
    "silh_val=np.zeros(max_cluster)\n",
    "\n",
    "for k in range(2,max_cluster):\n",
    "    print(\"k=:\",k)\n",
    "    kmeans = KMeans()\\\n",
    "            .setK(k)\\\n",
    "            .setSeed(1) \\\n",
    "            .setFeaturesCol(\"indexedFeatures\")\\\n",
    "            .setPredictionCol(\"cluster\")\n",
    "\n",
    "    kmodel = kmeans.fit(data)\n",
    "    cost[k] = kmodel.computeCost(data) # requires Spark 2.0 or later\n",
    "    \n",
    "    # Make predictions\n",
    "    kpredictions = kmodel.transform(data)\n",
    "    # Evaluate clustering by computing Silhouette score\n",
    "    evaluator = ClusteringEvaluator(predictionCol='cluster')\n",
    "    silhouette = evaluator.evaluate(kpredictions)\n",
    "    silh_val[k]=silhouette\n",
    "\n",
    "import matplotlib.pyplot as plt\n",
    "%matplotlib inline\n",
    "from matplotlib.ticker import MaxNLocator\n",
    "\n",
    "fig, (ax1,ax2) = plt.subplots(1,2, figsize =(14,6))\n",
    "ax1.plot(range(2,max_cluster),cost[2:max_cluster])\n",
    "ax1.set_xlabel('k')\n",
    "ax1.set_ylabel('cost')\n",
    "ax1.xaxis.set_major_locator(MaxNLocator(integer=True))\n",
    "\n",
    "ax2.plot(range(2,max_cluster),silh_val[2:max_cluster])\n",
    "ax2.set_xlabel('k')\n",
    "ax2.set_ylabel('Silhouette Score')\n",
    "ax2.xaxis.set_major_locator(MaxNLocator(integer=True))\n",
    "\n",
    "plt.show()"
   ]
  },
  {
   "cell_type": "code",
   "execution_count": 26,
   "metadata": {},
   "outputs": [
    {
     "name": "stdout",
     "output_type": "stream",
     "text": [
      "+------------+-----------+------------+-----------+-------+-----------------+-----------------+-------+\n",
      "|sepal_length|sepal_width|petal_length|petal_width|species|         features|  indexedFeatures|cluster|\n",
      "+------------+-----------+------------+-----------+-------+-----------------+-----------------+-------+\n",
      "|         5.1|        3.5|         1.4|        0.2| setosa|[5.1,3.5,1.4,0.2]|[5.1,3.5,1.4,0.2]|      1|\n",
      "|         4.9|        3.0|         1.4|        0.2| setosa|[4.9,3.0,1.4,0.2]|[4.9,3.0,1.4,0.2]|      1|\n",
      "|         4.7|        3.2|         1.3|        0.2| setosa|[4.7,3.2,1.3,0.2]|[4.7,3.2,1.3,0.2]|      1|\n",
      "|         4.6|        3.1|         1.5|        0.2| setosa|[4.6,3.1,1.5,0.2]|[4.6,3.1,1.5,0.2]|      1|\n",
      "|         5.0|        3.6|         1.4|        0.2| setosa|[5.0,3.6,1.4,0.2]|[5.0,3.6,1.4,0.2]|      1|\n",
      "+------------+-----------+------------+-----------+-------+-----------------+-----------------+-------+\n",
      "only showing top 5 rows\n",
      "\n"
     ]
    }
   ],
   "source": [
    "# use K=3\n",
    "from pyspark.ml.clustering import KMeans, KMeansModel\n",
    "\n",
    "kmeans = KMeans() \\\n",
    "          .setK(3) \\\n",
    "          .setFeaturesCol(\"indexedFeatures\")\\\n",
    "          .setPredictionCol(\"cluster\")\n",
    "\n",
    "# Chain indexer and tree in a Pipeline\n",
    "pipeline = Pipeline(stages=[featureIndexer, kmeans])\n",
    "\n",
    "kmodel = pipeline.fit(transformed)\n",
    "kcluster = kmodel.transform(transformed)\n",
    "kcluster.show(5)"
   ]
  },
  {
   "cell_type": "code",
   "execution_count": null,
   "metadata": {},
   "outputs": [],
   "source": []
  },
  {
   "cell_type": "code",
   "execution_count": null,
   "metadata": {},
   "outputs": [],
   "source": []
  },
  {
   "cell_type": "code",
   "execution_count": null,
   "metadata": {},
   "outputs": [],
   "source": []
  }
 ],
 "metadata": {
  "kernelspec": {
   "display_name": "Python 3",
   "language": "python",
   "name": "python3"
  },
  "language_info": {
   "codemirror_mode": {
    "name": "ipython",
    "version": 3
   },
   "file_extension": ".py",
   "mimetype": "text/x-python",
   "name": "python",
   "nbconvert_exporter": "python",
   "pygments_lexer": "ipython3",
   "version": "3.7.1"
  }
 },
 "nbformat": 4,
 "nbformat_minor": 2
}
