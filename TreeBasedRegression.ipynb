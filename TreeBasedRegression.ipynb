{
 "cells": [
  {
   "cell_type": "code",
   "execution_count": 1,
   "metadata": {},
   "outputs": [],
   "source": [
    "from pyspark.sql import SparkSession\n",
    "\n",
    "spark = SparkSession \\\n",
    "    .builder \\\n",
    "    .appName(\"Python Spark regression example\") \\\n",
    "    .config(\"spark.some.config.option\", \"some-value\") \\\n",
    "    .getOrCreate()"
   ]
  },
  {
   "cell_type": "code",
   "execution_count": 44,
   "metadata": {
    "scrolled": true
   },
   "outputs": [
    {
     "name": "stdout",
     "output_type": "stream",
     "text": [
      "+-----+-----+---------+-----+\n",
      "|   TV|Radio|Newspaper|Sales|\n",
      "+-----+-----+---------+-----+\n",
      "|230.1| 37.8|     69.2| 22.1|\n",
      "| 44.5| 39.3|     45.1| 10.4|\n",
      "| 17.2| 45.9|     69.3|  9.3|\n",
      "|151.5| 41.3|     58.5| 18.5|\n",
      "|180.8| 10.8|     58.4| 12.9|\n",
      "+-----+-----+---------+-----+\n",
      "only showing top 5 rows\n",
      "\n",
      "root\n",
      " |-- TV: double (nullable = true)\n",
      " |-- Radio: double (nullable = true)\n",
      " |-- Newspaper: double (nullable = true)\n",
      " |-- Sales: double (nullable = true)\n",
      "\n",
      "+-------+-----------------+------------------+------------------+------------------+\n",
      "|summary|               TV|             Radio|         Newspaper|             Sales|\n",
      "+-------+-----------------+------------------+------------------+------------------+\n",
      "|  count|              200|               200|               200|               200|\n",
      "|   mean|         147.0425|23.264000000000024|30.553999999999995|14.022500000000003|\n",
      "| stddev|85.85423631490805|14.846809176168728| 21.77862083852283| 5.217456565710477|\n",
      "|    min|              0.7|               0.0|               0.3|               1.6|\n",
      "|    max|            296.4|              49.6|             114.0|              27.0|\n",
      "+-------+-----------------+------------------+------------------+------------------+\n",
      "\n"
     ]
    }
   ],
   "source": [
    "# load data\n",
    "df = spark.read.format('com.databricks.spark.csv').\\\n",
    "                       options(header='true', \\\n",
    "                       inferschema='true').\\\n",
    "            load(\"Advertising.csv\",header=True).drop('_c0')\n",
    "df.show(5,True)\n",
    "df.printSchema()\n",
    "df.describe().show()"
   ]
  },
  {
   "cell_type": "code",
   "execution_count": 45,
   "metadata": {},
   "outputs": [
    {
     "name": "stdout",
     "output_type": "stream",
     "text": [
      "+-----+\n",
      "|   TV|\n",
      "+-----+\n",
      "|230.1|\n",
      "| 44.5|\n",
      "| 17.2|\n",
      "|151.5|\n",
      "|180.8|\n",
      "+-----+\n",
      "only showing top 5 rows\n",
      "\n"
     ]
    }
   ],
   "source": [
    "df.select(\"TV\").show(5)"
   ]
  },
  {
   "cell_type": "code",
   "execution_count": 6,
   "metadata": {},
   "outputs": [],
   "source": [
    "def get_dummy(df,indexCol,categoricalCols,continuousCols,labelCol,dropLast=False):\n",
    "\n",
    "    '''\n",
    "    Get dummy variables and concat with continuous variables for ml modeling.\n",
    "    :param df: the dataframe\n",
    "    :param categoricalCols: the name list of the categorical data\n",
    "    :param continuousCols:  the name list of the numerical data\n",
    "    :param labelCol:  the name of label column\n",
    "    :param dropLast:  the flag of drop last column\n",
    "    :return: feature matrix\n",
    "\n",
    "    :author: Wenqiang Feng\n",
    "    :email:  von198@gmail.com\n",
    "\n",
    "    >>> df = spark.createDataFrame([\n",
    "                  (0, \"a\"),\n",
    "                  (1, \"b\"),\n",
    "                  (2, \"c\"),\n",
    "                  (3, \"a\"),\n",
    "                  (4, \"a\"),\n",
    "                  (5, \"c\")\n",
    "              ], [\"id\", \"category\"])\n",
    "\n",
    "    >>> indexCol = 'id'\n",
    "    >>> categoricalCols = ['category']\n",
    "    >>> continuousCols = []\n",
    "    >>> labelCol = []\n",
    "\n",
    "    >>> mat = get_dummy(df,indexCol,categoricalCols,continuousCols,labelCol)\n",
    "    >>> mat.show()\n",
    "\n",
    "    >>>\n",
    "        +---+-------------+\n",
    "        | id|     features|\n",
    "        +---+-------------+\n",
    "        |  0|[1.0,0.0,0.0]|\n",
    "        |  1|[0.0,0.0,1.0]|\n",
    "        |  2|[0.0,1.0,0.0]|\n",
    "        |  3|[1.0,0.0,0.0]|\n",
    "        |  4|[1.0,0.0,0.0]|\n",
    "        |  5|[0.0,1.0,0.0]|\n",
    "        +---+-------------+\n",
    "    '''\n",
    "\n",
    "    from pyspark.ml import Pipeline\n",
    "    from pyspark.ml.feature import StringIndexer, OneHotEncoder, VectorAssembler\n",
    "    from pyspark.sql.functions import col\n",
    "\n",
    "    indexers = [ StringIndexer(inputCol=c, outputCol=\"{0}_indexed\".format(c))\n",
    "                 for c in categoricalCols ]\n",
    "\n",
    "    # default setting: dropLast=True\n",
    "    encoders = [ OneHotEncoder(inputCol=indexer.getOutputCol(),\n",
    "                 outputCol=\"{0}_encoded\".format(indexer.getOutputCol()),dropLast=dropLast)\n",
    "                 for indexer in indexers ]\n",
    "\n",
    "    assembler = VectorAssembler(inputCols=[encoder.getOutputCol() for encoder in encoders]\n",
    "                                + continuousCols, outputCol=\"features\")\n",
    "\n",
    "    pipeline = Pipeline(stages=indexers + encoders + [assembler])\n",
    "\n",
    "    model=pipeline.fit(df)\n",
    "    data = model.transform(df)\n",
    "\n",
    "    if indexCol and labelCol:\n",
    "        # for supervised learning\n",
    "        data = data.withColumn('label',col(labelCol))\n",
    "        return data.select(indexCol,'features','label')\n",
    "    elif not indexCol and labelCol:\n",
    "        # for supervised learning\n",
    "        data = data.withColumn('label',col(labelCol))\n",
    "        return data.select('features','label')\n",
    "    elif indexCol and not labelCol:\n",
    "        # for unsupervised learning\n",
    "        return data.select(indexCol,'features')\n",
    "    elif not indexCol and not labelCol:\n",
    "        # for unsupervised learning\n",
    "        return data.select('features')"
   ]
  },
  {
   "cell_type": "code",
   "execution_count": 8,
   "metadata": {},
   "outputs": [
    {
     "name": "stdout",
     "output_type": "stream",
     "text": [
      "+-----+-----------------+\n",
      "|label|         features|\n",
      "+-----+-----------------+\n",
      "| 22.1|[230.1,37.8,69.2]|\n",
      "| 10.4| [44.5,39.3,45.1]|\n",
      "|  9.3| [17.2,45.9,69.3]|\n",
      "| 18.5|[151.5,41.3,58.5]|\n",
      "| 12.9|[180.8,10.8,58.4]|\n",
      "+-----+-----------------+\n",
      "only showing top 5 rows\n",
      "\n"
     ]
    }
   ],
   "source": [
    "# convert the data to dense vector\n",
    "from pyspark.sql import Row\n",
    "from pyspark.ml.linalg import Vectors\n",
    "\n",
    "def transData(data):\n",
    "    return data.rdd.map(lambda r: [r[-1], Vectors.dense(r[:-1])]).\\\n",
    "           toDF(['label','features'])\n",
    "\n",
    "transformed = transData(df)\n",
    "transformed.show(5)"
   ]
  },
  {
   "cell_type": "code",
   "execution_count": 11,
   "metadata": {},
   "outputs": [
    {
     "name": "stdout",
     "output_type": "stream",
     "text": [
      "+-----+-----------------+-----------------+\n",
      "|label|         features|  indexedFeatures|\n",
      "+-----+-----------------+-----------------+\n",
      "| 22.1|[230.1,37.8,69.2]|[230.1,37.8,69.2]|\n",
      "| 10.4| [44.5,39.3,45.1]| [44.5,39.3,45.1]|\n",
      "|  9.3| [17.2,45.9,69.3]| [17.2,45.9,69.3]|\n",
      "| 18.5|[151.5,41.3,58.5]|[151.5,41.3,58.5]|\n",
      "| 12.9|[180.8,10.8,58.4]|[180.8,10.8,58.4]|\n",
      "+-----+-----------------+-----------------+\n",
      "only showing top 5 rows\n",
      "\n"
     ]
    }
   ],
   "source": [
    "# Deal with the Categorical variables\n",
    "from pyspark.ml import Pipeline\n",
    "from pyspark.ml.regression import LinearRegression\n",
    "from pyspark.ml.feature import VectorIndexer\n",
    "from pyspark.ml.evaluation import RegressionEvaluator\n",
    "\n",
    "# Automatically identify categorical features, and index them.\n",
    "# We specify maxCategories so features with > 4\n",
    "# distinct values are treated as continuous.\n",
    "\n",
    "featureIndexer = VectorIndexer(inputCol=\"features\", \\\n",
    "                               outputCol=\"indexedFeatures\",\\\n",
    "                               maxCategories=4).fit(transformed)\n",
    "\n",
    "data = featureIndexer.transform(transformed)\n",
    "data.show(5)"
   ]
  },
  {
   "cell_type": "code",
   "execution_count": 12,
   "metadata": {},
   "outputs": [
    {
     "name": "stdout",
     "output_type": "stream",
     "text": [
      "+-----+---------------+\n",
      "|label|       features|\n",
      "+-----+---------------+\n",
      "|  1.6| [0.7,39.6,8.7]|\n",
      "|  3.2| [4.1,11.6,5.7]|\n",
      "|  4.8|  [8.6,2.1,1.0]|\n",
      "|  5.3|[13.1,0.4,25.6]|\n",
      "|  5.7| [8.4,27.2,2.1]|\n",
      "+-----+---------------+\n",
      "only showing top 5 rows\n",
      "\n",
      "+-----+----------------+\n",
      "|label|        features|\n",
      "+-----+----------------+\n",
      "|  5.3|  [5.4,29.9,9.4]|\n",
      "|  5.5| [7.3,28.1,41.4]|\n",
      "|  5.6|[13.2,15.9,49.6]|\n",
      "|  6.7|[18.7,12.1,23.4]|\n",
      "|  7.2|[25.0,11.0,29.7]|\n",
      "+-----+----------------+\n",
      "only showing top 5 rows\n",
      "\n"
     ]
    }
   ],
   "source": [
    "# Split the data into training and test sets (40% held out for testing)\n",
    "(trainingData, testData) = transformed.randomSplit([0.6, 0.4])\n",
    "trainingData.show(5)\n",
    "testData.show(5)"
   ]
  },
  {
   "cell_type": "markdown",
   "metadata": {},
   "source": [
    "## decision tree regressor"
   ]
  },
  {
   "cell_type": "code",
   "execution_count": 16,
   "metadata": {},
   "outputs": [],
   "source": [
    "from pyspark.ml.regression import DecisionTreeRegressor\n",
    "\n",
    "# Train a DecisionTree model.\n",
    "dt = DecisionTreeRegressor(featuresCol=\"indexedFeatures\",labelCol='label')\n",
    "#dt = DecisionTreeRegressor(featuresCol=\"features\",labelCol='label')"
   ]
  },
  {
   "cell_type": "code",
   "execution_count": 18,
   "metadata": {},
   "outputs": [],
   "source": [
    "# Chain indexer and tree in a Pipeline\n",
    "pipeline = Pipeline(stages=[featureIndexer, dt])\n",
    "model = pipeline.fit(trainingData)"
   ]
  },
  {
   "cell_type": "code",
   "execution_count": 21,
   "metadata": {},
   "outputs": [
    {
     "name": "stdout",
     "output_type": "stream",
     "text": [
      "+----------------+-----+-----------------+\n",
      "|        features|label|       prediction|\n",
      "+----------------+-----+-----------------+\n",
      "|  [5.4,29.9,9.4]|  5.3|7.033333333333334|\n",
      "| [7.3,28.1,41.4]|  5.5|7.033333333333334|\n",
      "|[13.2,15.9,49.6]|  5.6|5.599999999999999|\n",
      "|[18.7,12.1,23.4]|  6.7|5.599999999999999|\n",
      "|[25.0,11.0,29.7]|  7.2|5.599999999999999|\n",
      "+----------------+-----+-----------------+\n",
      "only showing top 5 rows\n",
      "\n"
     ]
    }
   ],
   "source": [
    "# Make predictions.\n",
    "predictions = model.transform(testData)\n",
    "\n",
    "# Select example rows to display.\n",
    "predictions.select(\"features\",\"label\",\"prediction\").show(5)"
   ]
  },
  {
   "cell_type": "code",
   "execution_count": 23,
   "metadata": {},
   "outputs": [
    {
     "name": "stdout",
     "output_type": "stream",
     "text": [
      "Root Mean Squared Error (RMSE) on test data = 1.21457\n",
      "r2_score: 0.9353409382354951\n"
     ]
    }
   ],
   "source": [
    "# evaluation\n",
    "from pyspark.ml.evaluation import RegressionEvaluator\n",
    "from pyspark.ml.evaluation import RegressionEvaluator\n",
    "# Select (prediction, true label) and compute test error\n",
    "evaluator = RegressionEvaluator(labelCol=\"label\",\n",
    "                                predictionCol=\"prediction\",\n",
    "                                metricName=\"rmse\")\n",
    "\n",
    "rmse = evaluator.evaluate(predictions)\n",
    "print(\"Root Mean Squared Error (RMSE) on test data = %g\" % rmse)\n",
    "\n",
    "y_true = predictions.select(\"label\").toPandas()\n",
    "y_pred = predictions.select(\"prediction\").toPandas()\n",
    "\n",
    "import sklearn.metrics\n",
    "r2_score = sklearn.metrics.r2_score(y_true, y_pred)\n",
    "print('r2_score: {0}'.format(r2_score))"
   ]
  },
  {
   "cell_type": "code",
   "execution_count": 24,
   "metadata": {},
   "outputs": [
    {
     "data": {
      "text/plain": [
       "SparseVector(3, {0: 0.6594, 1: 0.3269, 2: 0.0137})"
      ]
     },
     "execution_count": 24,
     "metadata": {},
     "output_type": "execute_result"
    }
   ],
   "source": [
    "# check feature importance\n",
    "model.stages[1].featureImportances"
   ]
  },
  {
   "cell_type": "markdown",
   "metadata": {},
   "source": [
    "## Random Forest Regression"
   ]
  },
  {
   "cell_type": "code",
   "execution_count": 25,
   "metadata": {},
   "outputs": [
    {
     "name": "stdout",
     "output_type": "stream",
     "text": [
      "+-----+-----------------+-----------------+\n",
      "|label|         features|  indexedFeatures|\n",
      "+-----+-----------------+-----------------+\n",
      "| 22.1|[230.1,37.8,69.2]|[230.1,37.8,69.2]|\n",
      "| 10.4| [44.5,39.3,45.1]| [44.5,39.3,45.1]|\n",
      "|  9.3| [17.2,45.9,69.3]| [17.2,45.9,69.3]|\n",
      "| 18.5|[151.5,41.3,58.5]|[151.5,41.3,58.5]|\n",
      "| 12.9|[180.8,10.8,58.4]|[180.8,10.8,58.4]|\n",
      "+-----+-----------------+-----------------+\n",
      "only showing top 5 rows\n",
      "\n",
      "+-----+---------------+\n",
      "|label|       features|\n",
      "+-----+---------------+\n",
      "|  1.6| [0.7,39.6,8.7]|\n",
      "|  3.2| [4.1,11.6,5.7]|\n",
      "|  4.8|  [8.6,2.1,1.0]|\n",
      "|  5.3|[13.1,0.4,25.6]|\n",
      "|  5.7| [8.4,27.2,2.1]|\n",
      "+-----+---------------+\n",
      "only showing top 5 rows\n",
      "\n",
      "+-----+----------------+\n",
      "|label|        features|\n",
      "+-----+----------------+\n",
      "|  5.3|  [5.4,29.9,9.4]|\n",
      "|  5.5| [7.3,28.1,41.4]|\n",
      "|  5.6|[13.2,15.9,49.6]|\n",
      "|  6.7|[18.7,12.1,23.4]|\n",
      "|  7.2|[25.0,11.0,29.7]|\n",
      "+-----+----------------+\n",
      "only showing top 5 rows\n",
      "\n"
     ]
    }
   ],
   "source": [
    "data.show(5)\n",
    "trainingData.show(5)\n",
    "testData.show(5)"
   ]
  },
  {
   "cell_type": "code",
   "execution_count": 33,
   "metadata": {},
   "outputs": [],
   "source": [
    "# Import RandomForestRegressor\n",
    "from pyspark.ml.regression import RandomForestRegressor\n",
    "\n",
    "# Define RandomForestRegressor\n",
    "rf = RandomForestRegressor(featuresCol=\"indexedFeatures\", numTrees=100) # featuresCol=\"indexedFeatures\",numTrees=2, maxDepth=2, seed=42"
   ]
  },
  {
   "cell_type": "code",
   "execution_count": 34,
   "metadata": {},
   "outputs": [
    {
     "name": "stdout",
     "output_type": "stream",
     "text": [
      "+----------------+-----+-----------------+\n",
      "|        features|label|       prediction|\n",
      "+----------------+-----+-----------------+\n",
      "|  [5.4,29.9,9.4]|  5.3|8.629162991753926|\n",
      "| [7.3,28.1,41.4]|  5.5| 9.21473664048392|\n",
      "|[13.2,15.9,49.6]|  5.6|8.601744734138068|\n",
      "|[18.7,12.1,23.4]|  6.7|8.531689803043868|\n",
      "|[25.0,11.0,29.7]|  7.2| 8.83378249789345|\n",
      "+----------------+-----+-----------------+\n",
      "only showing top 5 rows\n",
      "\n"
     ]
    }
   ],
   "source": [
    "# Chain indexer and tree in a Pipeline\n",
    "pipeline = Pipeline(stages=[featureIndexer, rf])\n",
    "rfmodel = pipeline.fit(trainingData)\n",
    "\n",
    "rfpredictions = rfmodel.transform(testData)\n",
    "\n",
    "# Select example rows to display.\n",
    "rfpredictions.select(\"features\",\"label\", \"prediction\").show(5)"
   ]
  },
  {
   "cell_type": "code",
   "execution_count": 35,
   "metadata": {},
   "outputs": [
    {
     "name": "stdout",
     "output_type": "stream",
     "text": [
      "Root Mean Squared Error (RMSE) on test data = 1.86435\n",
      "r2_score: 0.848\n",
      "(3,[0,1,2],[0.6593810382832179,0.32688190371226084,0.013737058004521293])\n"
     ]
    }
   ],
   "source": [
    "# Select (prediction, true label) and compute test error\n",
    "evaluator = RegressionEvaluator(\n",
    "    labelCol=\"label\", predictionCol=\"prediction\", metricName=\"rmse\")\n",
    "rmse = evaluator.evaluate(rfpredictions)\n",
    "print(\"Root Mean Squared Error (RMSE) on test data = %g\" % rmse)\n",
    "\n",
    "y_true = rfpredictions.select(\"label\").toPandas()\n",
    "y_pred = rfpredictions.select(\"prediction\").toPandas()\n",
    "import sklearn.metrics\n",
    "r2_score = sklearn.metrics.r2_score(y_true, y_pred)\n",
    "print('r2_score: {:4.3f}'.format(r2_score))\n",
    "\n",
    "#feature importance\n",
    "print(model.stages[-1].featureImportances)\n"
   ]
  },
  {
   "cell_type": "code",
   "execution_count": 37,
   "metadata": {
    "scrolled": true
   },
   "outputs": [
    {
     "data": {
      "text/plain": [
       "[DecisionTreeRegressionModel (uid=dtr_d5bd15d8bc14) of depth 5 with 43 nodes,\n",
       " DecisionTreeRegressionModel (uid=dtr_b3feb87d2e57) of depth 5 with 43 nodes,\n",
       " DecisionTreeRegressionModel (uid=dtr_c6da2ec3b018) of depth 5 with 57 nodes,\n",
       " DecisionTreeRegressionModel (uid=dtr_8a54e3a98911) of depth 5 with 47 nodes,\n",
       " DecisionTreeRegressionModel (uid=dtr_372481cbad79) of depth 5 with 51 nodes,\n",
       " DecisionTreeRegressionModel (uid=dtr_ee82c19f1172) of depth 5 with 55 nodes,\n",
       " DecisionTreeRegressionModel (uid=dtr_852177c1a3e4) of depth 5 with 45 nodes,\n",
       " DecisionTreeRegressionModel (uid=dtr_fbdbf549037f) of depth 5 with 49 nodes,\n",
       " DecisionTreeRegressionModel (uid=dtr_3bb86d1a678a) of depth 5 with 57 nodes,\n",
       " DecisionTreeRegressionModel (uid=dtr_5d74d9574bfa) of depth 5 with 43 nodes,\n",
       " DecisionTreeRegressionModel (uid=dtr_86c6e91582b7) of depth 5 with 37 nodes,\n",
       " DecisionTreeRegressionModel (uid=dtr_e904f315a28e) of depth 5 with 53 nodes,\n",
       " DecisionTreeRegressionModel (uid=dtr_f7934fb0f64c) of depth 5 with 47 nodes,\n",
       " DecisionTreeRegressionModel (uid=dtr_410069a1a195) of depth 5 with 57 nodes,\n",
       " DecisionTreeRegressionModel (uid=dtr_e640a875db90) of depth 5 with 49 nodes,\n",
       " DecisionTreeRegressionModel (uid=dtr_63da3177edb9) of depth 5 with 43 nodes,\n",
       " DecisionTreeRegressionModel (uid=dtr_a85237ee3c8d) of depth 5 with 35 nodes,\n",
       " DecisionTreeRegressionModel (uid=dtr_b6ce2bcf27d5) of depth 5 with 37 nodes,\n",
       " DecisionTreeRegressionModel (uid=dtr_2ccf2f25d233) of depth 5 with 55 nodes,\n",
       " DecisionTreeRegressionModel (uid=dtr_bf9b2f593982) of depth 5 with 59 nodes,\n",
       " DecisionTreeRegressionModel (uid=dtr_c939da884f5b) of depth 5 with 43 nodes,\n",
       " DecisionTreeRegressionModel (uid=dtr_4e526f35082e) of depth 5 with 41 nodes,\n",
       " DecisionTreeRegressionModel (uid=dtr_9f845ed1715a) of depth 5 with 41 nodes,\n",
       " DecisionTreeRegressionModel (uid=dtr_3c3e4c6801dc) of depth 5 with 57 nodes,\n",
       " DecisionTreeRegressionModel (uid=dtr_166272595542) of depth 5 with 35 nodes,\n",
       " DecisionTreeRegressionModel (uid=dtr_84c421b5f3af) of depth 5 with 49 nodes,\n",
       " DecisionTreeRegressionModel (uid=dtr_82a5a5794ff7) of depth 5 with 43 nodes,\n",
       " DecisionTreeRegressionModel (uid=dtr_ead8f80a3d72) of depth 5 with 51 nodes,\n",
       " DecisionTreeRegressionModel (uid=dtr_b7442a65ddc9) of depth 5 with 39 nodes,\n",
       " DecisionTreeRegressionModel (uid=dtr_c8f2b27be92c) of depth 5 with 47 nodes,\n",
       " DecisionTreeRegressionModel (uid=dtr_b6c07986cf82) of depth 5 with 43 nodes,\n",
       " DecisionTreeRegressionModel (uid=dtr_d8fe0c904a69) of depth 5 with 33 nodes,\n",
       " DecisionTreeRegressionModel (uid=dtr_e2f153df2519) of depth 5 with 55 nodes,\n",
       " DecisionTreeRegressionModel (uid=dtr_8cffb4b6f6ba) of depth 5 with 49 nodes,\n",
       " DecisionTreeRegressionModel (uid=dtr_dc167de5a61a) of depth 5 with 43 nodes,\n",
       " DecisionTreeRegressionModel (uid=dtr_e5ca08f81a26) of depth 5 with 51 nodes,\n",
       " DecisionTreeRegressionModel (uid=dtr_51ab6dac1b83) of depth 5 with 57 nodes,\n",
       " DecisionTreeRegressionModel (uid=dtr_c1dc9e077c9e) of depth 5 with 45 nodes,\n",
       " DecisionTreeRegressionModel (uid=dtr_e2b27235bd45) of depth 5 with 49 nodes,\n",
       " DecisionTreeRegressionModel (uid=dtr_ce243bedd625) of depth 5 with 49 nodes,\n",
       " DecisionTreeRegressionModel (uid=dtr_87552fc1d0d0) of depth 5 with 53 nodes,\n",
       " DecisionTreeRegressionModel (uid=dtr_a6dcb9c18851) of depth 5 with 43 nodes,\n",
       " DecisionTreeRegressionModel (uid=dtr_7efa4ac2bb3f) of depth 5 with 53 nodes,\n",
       " DecisionTreeRegressionModel (uid=dtr_410a500138b1) of depth 5 with 51 nodes,\n",
       " DecisionTreeRegressionModel (uid=dtr_f6fe5c06274d) of depth 5 with 57 nodes,\n",
       " DecisionTreeRegressionModel (uid=dtr_fbf2eb63095b) of depth 5 with 47 nodes,\n",
       " DecisionTreeRegressionModel (uid=dtr_91440d3141ee) of depth 5 with 57 nodes,\n",
       " DecisionTreeRegressionModel (uid=dtr_bbe3ecf38ff8) of depth 5 with 51 nodes,\n",
       " DecisionTreeRegressionModel (uid=dtr_b2d3d22c1a15) of depth 5 with 59 nodes,\n",
       " DecisionTreeRegressionModel (uid=dtr_9c4353e581ac) of depth 5 with 47 nodes,\n",
       " DecisionTreeRegressionModel (uid=dtr_b24ddec467b6) of depth 5 with 53 nodes,\n",
       " DecisionTreeRegressionModel (uid=dtr_fec30c547796) of depth 5 with 45 nodes,\n",
       " DecisionTreeRegressionModel (uid=dtr_0c7e14a0c466) of depth 5 with 41 nodes,\n",
       " DecisionTreeRegressionModel (uid=dtr_8a1e093fdb3f) of depth 5 with 43 nodes,\n",
       " DecisionTreeRegressionModel (uid=dtr_bb7f6c3f68c8) of depth 5 with 51 nodes,\n",
       " DecisionTreeRegressionModel (uid=dtr_5ce80e71d938) of depth 5 with 51 nodes,\n",
       " DecisionTreeRegressionModel (uid=dtr_f81bd6ea6a36) of depth 5 with 57 nodes,\n",
       " DecisionTreeRegressionModel (uid=dtr_bda835fc33ae) of depth 5 with 47 nodes,\n",
       " DecisionTreeRegressionModel (uid=dtr_8659a05ee1cf) of depth 5 with 55 nodes,\n",
       " DecisionTreeRegressionModel (uid=dtr_9cb369005f4a) of depth 5 with 41 nodes,\n",
       " DecisionTreeRegressionModel (uid=dtr_26b906fc90f7) of depth 5 with 45 nodes,\n",
       " DecisionTreeRegressionModel (uid=dtr_3969de6e3f6d) of depth 5 with 53 nodes,\n",
       " DecisionTreeRegressionModel (uid=dtr_366d2f21f86d) of depth 5 with 59 nodes,\n",
       " DecisionTreeRegressionModel (uid=dtr_8f40a5361c3d) of depth 5 with 43 nodes,\n",
       " DecisionTreeRegressionModel (uid=dtr_0a9c84b423b5) of depth 5 with 57 nodes,\n",
       " DecisionTreeRegressionModel (uid=dtr_dab33c9efc1d) of depth 5 with 55 nodes,\n",
       " DecisionTreeRegressionModel (uid=dtr_3c098f6eb85d) of depth 5 with 55 nodes,\n",
       " DecisionTreeRegressionModel (uid=dtr_24572c85c451) of depth 5 with 49 nodes,\n",
       " DecisionTreeRegressionModel (uid=dtr_7a29699133a1) of depth 5 with 43 nodes,\n",
       " DecisionTreeRegressionModel (uid=dtr_ce783ee97b5c) of depth 5 with 57 nodes,\n",
       " DecisionTreeRegressionModel (uid=dtr_8324d8c50418) of depth 5 with 39 nodes,\n",
       " DecisionTreeRegressionModel (uid=dtr_c4dde851a8f0) of depth 5 with 55 nodes,\n",
       " DecisionTreeRegressionModel (uid=dtr_400eec0cf1ee) of depth 5 with 41 nodes,\n",
       " DecisionTreeRegressionModel (uid=dtr_3cff2d9d6d06) of depth 5 with 57 nodes,\n",
       " DecisionTreeRegressionModel (uid=dtr_4731cf04eb44) of depth 5 with 53 nodes,\n",
       " DecisionTreeRegressionModel (uid=dtr_bd4f190be6df) of depth 5 with 51 nodes,\n",
       " DecisionTreeRegressionModel (uid=dtr_9c8f22066380) of depth 5 with 55 nodes,\n",
       " DecisionTreeRegressionModel (uid=dtr_04ec5eaccc48) of depth 5 with 39 nodes,\n",
       " DecisionTreeRegressionModel (uid=dtr_e6210f9d23ca) of depth 5 with 61 nodes,\n",
       " DecisionTreeRegressionModel (uid=dtr_afc0700a9da3) of depth 5 with 51 nodes,\n",
       " DecisionTreeRegressionModel (uid=dtr_babec72b5779) of depth 5 with 59 nodes,\n",
       " DecisionTreeRegressionModel (uid=dtr_08ebf8a8b216) of depth 5 with 41 nodes,\n",
       " DecisionTreeRegressionModel (uid=dtr_6cbc2b5a9325) of depth 5 with 41 nodes,\n",
       " DecisionTreeRegressionModel (uid=dtr_81cc4ae4e33f) of depth 5 with 51 nodes,\n",
       " DecisionTreeRegressionModel (uid=dtr_85539b3a829c) of depth 5 with 47 nodes,\n",
       " DecisionTreeRegressionModel (uid=dtr_8621c54b74ad) of depth 5 with 57 nodes,\n",
       " DecisionTreeRegressionModel (uid=dtr_7564b0d25d3c) of depth 5 with 53 nodes,\n",
       " DecisionTreeRegressionModel (uid=dtr_319284eaed91) of depth 5 with 39 nodes,\n",
       " DecisionTreeRegressionModel (uid=dtr_8f61eda8b17a) of depth 5 with 43 nodes,\n",
       " DecisionTreeRegressionModel (uid=dtr_018d1e6e3cb4) of depth 5 with 51 nodes,\n",
       " DecisionTreeRegressionModel (uid=dtr_dd332dc6680b) of depth 5 with 53 nodes,\n",
       " DecisionTreeRegressionModel (uid=dtr_036d7a70b585) of depth 5 with 57 nodes,\n",
       " DecisionTreeRegressionModel (uid=dtr_69d3950d0576) of depth 5 with 45 nodes,\n",
       " DecisionTreeRegressionModel (uid=dtr_24c9e4d74ed0) of depth 5 with 53 nodes,\n",
       " DecisionTreeRegressionModel (uid=dtr_439a58cbe37a) of depth 5 with 49 nodes,\n",
       " DecisionTreeRegressionModel (uid=dtr_dc65ca2c5c2f) of depth 5 with 45 nodes,\n",
       " DecisionTreeRegressionModel (uid=dtr_f5d28fdcdf59) of depth 5 with 51 nodes,\n",
       " DecisionTreeRegressionModel (uid=dtr_6f50ae521374) of depth 5 with 45 nodes,\n",
       " DecisionTreeRegressionModel (uid=dtr_baef7e5a5da6) of depth 5 with 51 nodes,\n",
       " DecisionTreeRegressionModel (uid=dtr_d58babafd147) of depth 5 with 53 nodes]"
      ]
     },
     "execution_count": 37,
     "metadata": {},
     "output_type": "execute_result"
    }
   ],
   "source": [
    "rfmodel.stages[-1].trees"
   ]
  },
  {
   "cell_type": "markdown",
   "metadata": {},
   "source": [
    "## Gradient-boosted tree regression"
   ]
  },
  {
   "cell_type": "code",
   "execution_count": 38,
   "metadata": {},
   "outputs": [
    {
     "name": "stdout",
     "output_type": "stream",
     "text": [
      "+-----+-----------------+-----------------+\n",
      "|label|         features|  indexedFeatures|\n",
      "+-----+-----------------+-----------------+\n",
      "| 22.1|[230.1,37.8,69.2]|[230.1,37.8,69.2]|\n",
      "| 10.4| [44.5,39.3,45.1]| [44.5,39.3,45.1]|\n",
      "|  9.3| [17.2,45.9,69.3]| [17.2,45.9,69.3]|\n",
      "| 18.5|[151.5,41.3,58.5]|[151.5,41.3,58.5]|\n",
      "| 12.9|[180.8,10.8,58.4]|[180.8,10.8,58.4]|\n",
      "+-----+-----------------+-----------------+\n",
      "only showing top 5 rows\n",
      "\n",
      "+-----+---------------+\n",
      "|label|       features|\n",
      "+-----+---------------+\n",
      "|  1.6| [0.7,39.6,8.7]|\n",
      "|  3.2| [4.1,11.6,5.7]|\n",
      "|  4.8|  [8.6,2.1,1.0]|\n",
      "|  5.3|[13.1,0.4,25.6]|\n",
      "|  5.7| [8.4,27.2,2.1]|\n",
      "+-----+---------------+\n",
      "only showing top 5 rows\n",
      "\n",
      "+-----+----------------+\n",
      "|label|        features|\n",
      "+-----+----------------+\n",
      "|  5.3|  [5.4,29.9,9.4]|\n",
      "|  5.5| [7.3,28.1,41.4]|\n",
      "|  5.6|[13.2,15.9,49.6]|\n",
      "|  6.7|[18.7,12.1,23.4]|\n",
      "|  7.2|[25.0,11.0,29.7]|\n",
      "+-----+----------------+\n",
      "only showing top 5 rows\n",
      "\n"
     ]
    }
   ],
   "source": [
    "data.show(5)\n",
    "trainingData.show(5)\n",
    "testData.show(5)"
   ]
  },
  {
   "cell_type": "code",
   "execution_count": 40,
   "metadata": {},
   "outputs": [],
   "source": [
    "# Import GBTRegressor class\n",
    "from pyspark.ml.regression import GBTRegressor\n",
    "\n",
    "# Define LinearRegression algorithm\n",
    "gbt = GBTRegressor(featuresCol=\"indexedFeatures\") #numTrees=2, maxDepth=2, seed=42"
   ]
  },
  {
   "cell_type": "code",
   "execution_count": 41,
   "metadata": {},
   "outputs": [
    {
     "name": "stdout",
     "output_type": "stream",
     "text": [
      "+----------------+-----+-----------------+\n",
      "|        features|label|       prediction|\n",
      "+----------------+-----+-----------------+\n",
      "|  [5.4,29.9,9.4]|  5.3|7.033333333333334|\n",
      "| [7.3,28.1,41.4]|  5.5|7.033333333333334|\n",
      "|[13.2,15.9,49.6]|  5.6|5.599999999999999|\n",
      "|[18.7,12.1,23.4]|  6.7|5.599999999999999|\n",
      "|[25.0,11.0,29.7]|  7.2|5.599999999999999|\n",
      "+----------------+-----+-----------------+\n",
      "only showing top 5 rows\n",
      "\n"
     ]
    }
   ],
   "source": [
    "# Chain indexer and tree in a Pipeline\n",
    "pipeline = Pipeline(stages=[featureIndexer, gbt])\n",
    "gbtmodel = pipeline.fit(trainingData)\n",
    "\n",
    "gbtpredictions = model.transform(testData)\n",
    "# Select example rows to display.\n",
    "gbtpredictions.select(\"features\",\"label\", \"prediction\").show(5)"
   ]
  },
  {
   "cell_type": "code",
   "execution_count": 43,
   "metadata": {},
   "outputs": [
    {
     "name": "stdout",
     "output_type": "stream",
     "text": [
      "Root Mean Squared Error (RMSE) on test data = 1.21457\n",
      "r2_score: 0.935\n",
      "(3,[0,1,2],[0.6593810382832179,0.32688190371226084,0.013737058004521293])\n"
     ]
    },
    {
     "data": {
      "text/plain": [
       "[DecisionTreeRegressionModel (uid=dtr_004e1b87cfc3) of depth 5 with 63 nodes,\n",
       " DecisionTreeRegressionModel (uid=dtr_db551e0d5533) of depth 5 with 29 nodes,\n",
       " DecisionTreeRegressionModel (uid=dtr_1fc6e9e75426) of depth 5 with 29 nodes,\n",
       " DecisionTreeRegressionModel (uid=dtr_60af44e46472) of depth 5 with 35 nodes,\n",
       " DecisionTreeRegressionModel (uid=dtr_66ec86d2ba2b) of depth 5 with 35 nodes,\n",
       " DecisionTreeRegressionModel (uid=dtr_5459a18679c2) of depth 5 with 47 nodes,\n",
       " DecisionTreeRegressionModel (uid=dtr_984a843e0e5c) of depth 5 with 45 nodes,\n",
       " DecisionTreeRegressionModel (uid=dtr_f2c211a42219) of depth 5 with 45 nodes,\n",
       " DecisionTreeRegressionModel (uid=dtr_ba98405e0ce1) of depth 5 with 45 nodes,\n",
       " DecisionTreeRegressionModel (uid=dtr_74df0d570125) of depth 5 with 43 nodes,\n",
       " DecisionTreeRegressionModel (uid=dtr_a6d5bf960893) of depth 5 with 43 nodes,\n",
       " DecisionTreeRegressionModel (uid=dtr_30603aa11f13) of depth 5 with 33 nodes,\n",
       " DecisionTreeRegressionModel (uid=dtr_72a44624edd4) of depth 5 with 53 nodes,\n",
       " DecisionTreeRegressionModel (uid=dtr_9420634e5858) of depth 5 with 47 nodes,\n",
       " DecisionTreeRegressionModel (uid=dtr_89321d2ffdf2) of depth 5 with 51 nodes,\n",
       " DecisionTreeRegressionModel (uid=dtr_7318d94a4e8a) of depth 5 with 47 nodes,\n",
       " DecisionTreeRegressionModel (uid=dtr_3a8f4b1d1d2d) of depth 5 with 45 nodes,\n",
       " DecisionTreeRegressionModel (uid=dtr_94c4652b2d66) of depth 5 with 49 nodes,\n",
       " DecisionTreeRegressionModel (uid=dtr_bf4066789c67) of depth 5 with 47 nodes,\n",
       " DecisionTreeRegressionModel (uid=dtr_e93ca2cc741b) of depth 5 with 39 nodes]"
      ]
     },
     "execution_count": 43,
     "metadata": {},
     "output_type": "execute_result"
    }
   ],
   "source": [
    "# Select (prediction, true label) and compute test error\n",
    "evaluator = RegressionEvaluator(\n",
    "    labelCol=\"label\", predictionCol=\"prediction\", metricName=\"rmse\")\n",
    "rmse = evaluator.evaluate(gbtpredictions)\n",
    "print(\"Root Mean Squared Error (RMSE) on test data = %g\" % rmse)\n",
    "\n",
    "y_true = gbtpredictions.select(\"label\").toPandas()\n",
    "y_pred = gbtpredictions.select(\"prediction\").toPandas()\n",
    "import sklearn.metrics\n",
    "r2_score = sklearn.metrics.r2_score(y_true, y_pred)\n",
    "print('r2_score: {:4.3f}'.format(r2_score))\n",
    "\n",
    "#feature importance\n",
    "print(model.stages[-1].featureImportances)\n",
    "\n",
    "gbtmodel.stages[-1].trees"
   ]
  },
  {
   "cell_type": "code",
   "execution_count": null,
   "metadata": {},
   "outputs": [],
   "source": []
  },
  {
   "cell_type": "code",
   "execution_count": null,
   "metadata": {},
   "outputs": [],
   "source": []
  },
  {
   "cell_type": "code",
   "execution_count": null,
   "metadata": {},
   "outputs": [],
   "source": []
  },
  {
   "cell_type": "code",
   "execution_count": null,
   "metadata": {},
   "outputs": [],
   "source": []
  },
  {
   "cell_type": "code",
   "execution_count": null,
   "metadata": {},
   "outputs": [],
   "source": []
  }
 ],
 "metadata": {
  "kernelspec": {
   "display_name": "Python 3",
   "language": "python",
   "name": "python3"
  },
  "language_info": {
   "codemirror_mode": {
    "name": "ipython",
    "version": 3
   },
   "file_extension": ".py",
   "mimetype": "text/x-python",
   "name": "python",
   "nbconvert_exporter": "python",
   "pygments_lexer": "ipython3",
   "version": "3.7.1"
  }
 },
 "nbformat": 4,
 "nbformat_minor": 2
}
